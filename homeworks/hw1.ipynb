{
 "cells": [
  {
   "cell_type": "markdown",
   "metadata": {},
   "source": [
    "# The Perceptron Learning Algorithm\n",
    "\n",
    "> In this problem, you will create your own target function f and data set D to see\n",
    "how the Perceptron Learning Algorithm works. Take d = 2 so you can visualize the\n",
    "problem, and assume X = [−1, 1] × [−1, 1] with uniform probability of picking each\n",
    "x ∈ X ."
   ]
  },
  {
   "cell_type": "code",
   "execution_count": 1,
   "metadata": {},
   "outputs": [],
   "source": [
    "%matplotlib inline\n",
    "import matplotlib.pyplot as plt\n",
    "plt.style.use('seaborn-whitegrid')\n",
    "import numpy as np\n",
    "import random\n",
    "import math\n",
    "from functools import reduce"
   ]
  },
  {
   "cell_type": "markdown",
   "metadata": {},
   "source": [
    "## Create the experiment\n",
    "\n",
    "> In each run, **choose a random line in the plane as your target function f** (do this by\n",
    "taking two random, uniformly distributed points in [−1, 1] × [−1, 1] and taking the\n",
    "line passing through them), where one side of the line maps to +1 and the other maps\n",
    "to −1. **Choose the inputs xn of the data set as random points (uniformly in X ), and\n",
    "evaluate the target function on each xn to get the corresponding output yn.**"
   ]
  },
  {
   "cell_type": "code",
   "execution_count": 2,
   "metadata": {},
   "outputs": [],
   "source": [
    "# Create a dataset of N training points, evaluated with the target function f\n",
    "def create_dataset(f, N):\n",
    "    dataset = [];\n",
    "    \n",
    "    for _ in range(N):\n",
    "        # Choose the inputs xn of the data set as random points\n",
    "        x1, x2 = np.random.uniform(-1,1,2)\n",
    "        \n",
    "        # evaluate the target function on each xn to get the corresponding output yn.\n",
    "        y = 1 if x2 > f(x1) else -1\n",
    "\n",
    "        dataset.append([[x1, x2], y])\n",
    "    \n",
    "    return dataset;\n",
    "\n",
    "# Create an experiment: target function and dataset of N training points\n",
    "def create_experiment(N):\n",
    "    # Choose a random line in the plane as your target function f\n",
    "    x1, y1 = np.random.uniform(-1,1,2)\n",
    "    x2, y2 = np.random.uniform(-1,1,2)\n",
    "\n",
    "    a = (y2 - y1)/(x2 - x1)\n",
    "\n",
    "    b = random.uniform(-1, 1)\n",
    "\n",
    "    def f(x):\n",
    "        y = a*x + b\n",
    "        return y\n",
    "    \n",
    "    # Create training dataset by selecting N random points, and evaluating f on them\n",
    "    dataset = create_dataset(f, N)\n",
    "        \n",
    "    return (f, dataset)"
   ]
  },
  {
   "cell_type": "markdown",
   "metadata": {},
   "source": [
    "## Visualization example of one experimentation"
   ]
  },
  {
   "cell_type": "code",
   "execution_count": 3,
   "metadata": {},
   "outputs": [
    {
     "data": {
      "image/png": "[encoded data removed]",
      "text/plain": [
       "<Figure size 432x288 with 1 Axes>"
      ]
     },
     "metadata": {},
     "output_type": "display_data"
    }
   ],
   "source": [
    "# f is our target function\n",
    "# dataset is training dataset\n",
    "f, dataset = create_experiment(100)\n",
    "\n",
    "plt.axis([-1, 1, -1, 1])\n",
    "\n",
    "x = np.linspace(-1, 1, 2)\n",
    "plt.plot(x, f(x))\n",
    "\n",
    "for data in dataset:\n",
    "    point = data[0]\n",
    "    output = data[1]\n",
    "    plt.plot(point[0], point[1],  'go' if output > 0 else 'ro')"
   ]
  },
  {
   "cell_type": "markdown",
   "metadata": {},
   "source": [
    "## Run the Perceptron Learning Algorithm"
   ]
  },
  {
   "cell_type": "code",
   "execution_count": 4,
   "metadata": {},
   "outputs": [],
   "source": [
    "def is_misclassified_point(w, data):\n",
    "    return (np.sign(np.dot(w, [1, data[0][0], data[0][1]])) != data[1])"
   ]
  },
  {
   "cell_type": "code",
   "execution_count": null,
   "metadata": {},
   "outputs": [],
   "source": []
  },
  {
   "cell_type": "code",
   "execution_count": 5,
   "metadata": {},
   "outputs": [],
   "source": [
    "# In order to get a reliable estimate for these two quantities, you should repeat the experiment for 1000 runs\n",
    "NUMBER_OF_RUNS = 1000\n",
    "\n",
    "# N is the number of training points used in the experiment\n",
    "def repeat_experiment(N):\n",
    "    experiments = []\n",
    "    \n",
    "    for _ in range(NUMBER_OF_RUNS):\n",
    "        f, dataset = create_experiment(N)\n",
    "\n",
    "        #  Start the PLA with the weight vector w being all zeros\n",
    "        w = [0,0,0]\n",
    "\n",
    "        # consider sign(0) = 0, so all points are initially misclassified\n",
    "        misclassified_points = dataset\n",
    "\n",
    "        number_of_iterations = 0\n",
    "        while len(misclassified_points) > 0:\n",
    "            # Pick a random misclassified point\n",
    "            data = random.sample(misclassified_points, 1)[0]\n",
    "\n",
    "            # Apply PLA iteration\n",
    "            w = w + np.dot(data[1], [1, data[0][0], data[0][1]])\n",
    "\n",
    "            misclassified_points = list(filter(lambda data: is_misclassified_point(w, data), dataset))\n",
    "            number_of_iterations += 1\n",
    "\n",
    "        # Disagreement probability between g and f\n",
    "        # approximate it by generating a sufficiently large, separate set of points to estimate it.\n",
    "        SEPARATED_DATASET_SIZE = 1000\n",
    "        separated_dataset = create_dataset(f, SEPARATED_DATASET_SIZE)\n",
    "\n",
    "        new_misclassified_points = list(filter(lambda data: is_misclassified_point(w, data), separated_dataset))\n",
    "\n",
    "        error_rate = len(new_misclassified_points)/len(separated_dataset)\n",
    "\n",
    "        experiments.append([number_of_iterations, error_rate])\n",
    "        \n",
    "    return experiments\n",
    "    \n",
    "def avg_number_of_iterations(experiments):\n",
    "    return reduce(lambda accumulator, s: accumulator + s[0], experiments, 0)/len(experiments)\n",
    "\n",
    "def avg_error_rate(experiments):\n",
    "    return reduce(lambda accumulator, s: accumulator + s[1], experiments, 0)/len(experiments)"
   ]
  },
  {
   "cell_type": "markdown",
   "metadata": {},
   "source": [
    "### For N = 10 training points:"
   ]
  },
  {
   "cell_type": "code",
   "execution_count": 6,
   "metadata": {},
   "outputs": [
    {
     "name": "stdout",
     "output_type": "stream",
     "text": [
      "Average number of iterations is: 9.28\n",
      "Average disagreement is: 0.10337300000000012\n"
     ]
    }
   ],
   "source": [
    "experiments = repeat_experiment(10)\n",
    "\n",
    "print(f'Average number of iterations is: {avg_number_of_iterations(experiments)}')\n",
    "print(f'Average disagreement is: {avg_error_rate(experiments)}')"
   ]
  },
  {
   "cell_type": "markdown",
   "metadata": {},
   "source": [
    "### For N = 100 training points:"
   ]
  },
  {
   "cell_type": "code",
   "execution_count": null,
   "metadata": {},
   "outputs": [],
   "source": [
    "experiments = repeat_experiment(100)\n",
    "\n",
    "print(f'Average number of iterations is: {avg_number_of_iterations(experiments)}')\n",
    "print(f'Average disagreement is: {avg_error_rate(experiments)}')"
   ]
  },
  {
   "cell_type": "markdown",
   "metadata": {},
   "source": [
    "## Use Linear Regression first"
   ]
  },
  {
   "cell_type": "code",
   "execution_count": 46,
   "metadata": {},
   "outputs": [],
   "source": [
    "f, dataset = create_experiment(100)"
   ]
  },
  {
   "cell_type": "code",
   "execution_count": 47,
   "metadata": {},
   "outputs": [
    {
     "name": "stdout",
     "output_type": "stream",
     "text": [
      "[[ 1.         -0.31576984 -0.37511253]\n",
      " [ 1.          0.09358237  0.27473317]\n",
      " [ 1.         -0.08540376  0.16692552]\n",
      " [ 1.         -0.83213634  0.93558302]\n",
      " [ 1.          0.43278339  0.05815083]\n",
      " [ 1.         -0.26014376 -0.19278159]\n",
      " [ 1.          0.8177483   0.26188687]\n",
      " [ 1.         -0.10321447  0.80434604]\n",
      " [ 1.         -0.99668008  0.16055066]\n",
      " [ 1.          0.5617159  -0.61916247]\n",
      " [ 1.          0.89763049 -0.03360271]\n",
      " [ 1.         -0.08471637  0.57284209]\n",
      " [ 1.          0.45760668  0.21007361]\n",
      " [ 1.         -0.53948754  0.07806272]\n",
      " [ 1.         -0.43501745 -0.76009567]\n",
      " [ 1.          0.70451636  0.52956268]\n",
      " [ 1.         -0.41296907  0.15612094]\n",
      " [ 1.          0.31817222 -0.06714057]\n",
      " [ 1.          0.4662288  -0.35962517]\n",
      " [ 1.          0.55207052 -0.87797809]\n",
      " [ 1.          0.29555383  0.96562527]\n",
      " [ 1.          0.2171732  -0.23106638]\n",
      " [ 1.         -0.20328277 -0.59882927]\n",
      " [ 1.          0.1586351  -0.85275347]\n",
      " [ 1.          0.89081563 -0.38519073]\n",
      " [ 1.         -0.75721233 -0.83792119]\n",
      " [ 1.         -0.53907527 -0.32976731]\n",
      " [ 1.         -0.37984219 -0.75360034]\n",
      " [ 1.          0.01448064 -0.68569799]\n",
      " [ 1.         -0.83967179 -0.83230325]\n",
      " [ 1.          0.0623111  -0.45720638]\n",
      " [ 1.         -0.18906837  0.22453856]\n",
      " [ 1.         -0.49392937 -0.32832737]\n",
      " [ 1.         -0.20724882  0.34563609]\n",
      " [ 1.         -0.53331326  0.53029042]\n",
      " [ 1.         -0.56905763 -0.87330923]\n",
      " [ 1.         -0.58226565  0.00303861]\n",
      " [ 1.          0.58832691 -0.53645628]\n",
      " [ 1.          0.21720577 -0.80853913]\n",
      " [ 1.          0.298441    0.09997349]\n",
      " [ 1.         -0.88209947  0.14418275]\n",
      " [ 1.         -0.88766216 -0.27174114]\n",
      " [ 1.         -0.22376176 -0.24309928]\n",
      " [ 1.          0.20422429 -0.13213539]\n",
      " [ 1.          0.19180167  0.84788225]\n",
      " [ 1.          0.7191435  -0.29482005]\n",
      " [ 1.         -0.57190319 -0.93029547]\n",
      " [ 1.         -0.77300136  0.2031978 ]\n",
      " [ 1.         -0.84708565 -0.95591437]\n",
      " [ 1.         -0.20167947 -0.2891948 ]\n",
      " [ 1.          0.75167901 -0.22118699]\n",
      " [ 1.          0.15737794 -0.26934047]\n",
      " [ 1.          0.04325959  0.21632298]\n",
      " [ 1.         -0.724478   -0.48917731]\n",
      " [ 1.         -0.65274062 -0.18483673]\n",
      " [ 1.          0.84965662  0.23969466]\n",
      " [ 1.         -0.23861858  0.81606909]\n",
      " [ 1.          0.97338372  0.30545128]\n",
      " [ 1.         -0.07094686  0.5873696 ]\n",
      " [ 1.         -0.50198489 -0.41392299]\n",
      " [ 1.          0.4128814  -0.42269538]\n",
      " [ 1.          0.42374851  0.29634573]\n",
      " [ 1.         -0.5109278  -0.0279819 ]\n",
      " [ 1.         -0.47682205 -0.90532838]\n",
      " [ 1.         -0.48121079  0.30481934]\n",
      " [ 1.         -0.24042622 -0.34956512]\n",
      " [ 1.         -0.48808049  0.50952296]\n",
      " [ 1.         -0.8379539   0.19419853]\n",
      " [ 1.         -0.75253193  0.59004434]\n",
      " [ 1.         -0.50019917 -0.75438063]\n",
      " [ 1.         -0.73862269 -0.18116652]\n",
      " [ 1.          0.84339843 -0.84951547]\n",
      " [ 1.          0.5667422   0.89616237]\n",
      " [ 1.          0.07627143 -0.27211798]\n",
      " [ 1.         -0.65807987  0.72058034]\n",
      " [ 1.          0.22184542  0.39326097]\n",
      " [ 1.          0.2913396  -0.09638243]\n",
      " [ 1.          0.31492597  0.79225075]\n",
      " [ 1.          0.07029676 -0.5390614 ]\n",
      " [ 1.          0.29333455  0.63238902]\n",
      " [ 1.         -0.63615673 -0.91870017]\n",
      " [ 1.          0.02034542 -0.6335113 ]\n",
      " [ 1.         -0.23665057  0.3789768 ]\n",
      " [ 1.          0.66056566  0.71167533]\n",
      " [ 1.         -0.45350238  0.4241192 ]\n",
      " [ 1.         -0.38987376  0.42981239]\n",
      " [ 1.          0.8394636  -0.20760302]\n",
      " [ 1.          0.69734092 -0.02254891]\n",
      " [ 1.          0.99769909  0.7503646 ]\n",
      " [ 1.          0.47727575 -0.91689599]\n",
      " [ 1.         -0.77515383  0.62526694]\n",
      " [ 1.          0.20294625 -0.31792605]\n",
      " [ 1.          0.46095147  0.94664546]\n",
      " [ 1.          0.58796605  0.72677498]\n",
      " [ 1.         -0.48127938  0.65754667]\n",
      " [ 1.          0.29234307 -0.70463241]\n",
      " [ 1.         -0.84691278  0.48596914]\n",
      " [ 1.          0.15352126  0.64830924]\n",
      " [ 1.          0.0867873   0.76609964]\n",
      " [ 1.          0.84452669 -0.229397  ]]\n",
      "[ 1  1  1  1  1  1  1  1  1 -1 -1  1  1  1  1  1  1  1 -1 -1  1  1  1 -1\n",
      " -1  1  1  1  1  1  1  1  1  1  1  1  1 -1 -1  1  1  1  1  1  1 -1  1  1\n",
      "  1  1 -1  1  1  1  1  1  1 -1  1  1 -1  1  1  1  1  1  1  1  1  1  1 -1\n",
      "  1  1  1  1  1  1  1  1  1  1  1  1  1  1 -1 -1  1 -1  1  1  1  1  1 -1\n",
      "  1  1  1 -1]\n"
     ]
    }
   ],
   "source": [
    "def thresholded(x):\n",
    "    x.insert(0,1)\n",
    "    return x\n",
    "    \n",
    "X = np.array(list(map(lambda x: thresholded(x[0]), dataset)))\n",
    "print(X)\n",
    "y = np.array(list(map(lambda x: x[1], dataset)))\n",
    "print(y)"
   ]
  },
  {
   "cell_type": "code",
   "execution_count": 49,
   "metadata": {},
   "outputs": [
    {
     "name": "stdout",
     "output_type": "stream",
     "text": [
      "[ 0.62153059 -0.84688148  0.56664808]\n"
     ]
    }
   ],
   "source": [
    "# Using pseudo-inverse\n",
    "pseudo_inverse = np.dot(np.linalg.inv(np.dot(X.transpose(), X)), X.transpose())\n",
    "\n",
    "w = np.dot(pseudo_inverse, y)\n",
    "print(w)"
   ]
  },
  {
   "cell_type": "code",
   "execution_count": 55,
   "metadata": {},
   "outputs": [
    {
     "name": "stdout",
     "output_type": "stream",
     "text": [
      "[ 0.62153059 -0.84688148  0.56664808]\n"
     ]
    }
   ],
   "source": [
    "## Using Scikit\n",
    "import numpy as np\n",
    "from sklearn.linear_model import LinearRegression\n",
    "\n",
    "reg = LinearRegression().fit(X, y)\n",
    "\n",
    "w = reg.coef_\n",
    "w[0] = reg.intercept_\n",
    "print(w)"
   ]
  },
  {
   "cell_type": "code",
   "execution_count": null,
   "metadata": {},
   "outputs": [],
   "source": []
  }
 ],
 "metadata": {
  "kernelspec": {
   "display_name": "Python 3",
   "language": "python",
   "name": "python3"
  },
  "language_info": {
   "codemirror_mode": {
    "name": "ipython",
    "version": 3
   },
   "file_extension": ".py",
   "mimetype": "text/x-python",
   "name": "python",
   "nbconvert_exporter": "python",
   "pygments_lexer": "ipython3",
   "version": "3.7.6"
  }
 },
 "nbformat": 4,
 "nbformat_minor": 4
}
