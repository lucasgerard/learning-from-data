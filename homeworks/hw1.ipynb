{
 "cells": [
  {
   "cell_type": "markdown",
   "metadata": {},
   "source": [
    "# The Perceptron Learning Algorithm\n",
    "\n",
    "> In this problem, you will create your own target function f and data set D to see\n",
    "how the Perceptron Learning Algorithm works. Take d = 2 so you can visualize the\n",
    "problem, and assume X = [−1, 1] × [−1, 1] with uniform probability of picking each\n",
    "x ∈ X ."
   ]
  },
  {
   "cell_type": "code",
   "execution_count": 1,
   "metadata": {},
   "outputs": [],
   "source": [
    "%matplotlib inline\n",
    "import matplotlib.pyplot as plt\n",
    "plt.style.use('seaborn-whitegrid')\n",
    "import numpy as np\n",
    "import random\n",
    "import math\n",
    "from functools import reduce"
   ]
  },
  {
   "cell_type": "markdown",
   "metadata": {},
   "source": [
    "## Create the experiment\n",
    "\n",
    "> In each run, **choose a random line in the plane as your target function f** (do this by\n",
    "taking two random, uniformly distributed points in [−1, 1] × [−1, 1] and taking the\n",
    "line passing through them), where one side of the line maps to +1 and the other maps\n",
    "to −1. **Choose the inputs xn of the data set as random points (uniformly in X ), and\n",
    "evaluate the target function on each xn to get the corresponding output yn.**"
   ]
  },
  {
   "cell_type": "code",
   "execution_count": 2,
   "metadata": {},
   "outputs": [],
   "source": [
    "# Create a dataset of N training points, evaluated with the target function f\n",
    "def create_dataset(f, N):\n",
    "    dataset = [];\n",
    "    \n",
    "    for _ in range(N):\n",
    "        # Choose the inputs xn of the data set as random points\n",
    "        x1, x2 = np.random.uniform(-1,1,2)\n",
    "        \n",
    "        # evaluate the target function on each xn to get the corresponding output yn.\n",
    "        y = 1 if x2 > f(x1) else -1\n",
    "\n",
    "        dataset.append([[x1, x2], y])\n",
    "    \n",
    "    return dataset;\n",
    "\n",
    "# Create an experiment: target function and dataset of N training points\n",
    "def create_experiment(N):\n",
    "    # Choose a random line in the plane as your target function f\n",
    "    x1, y1 = np.random.uniform(-1,1,2)\n",
    "    x2, y2 = np.random.uniform(-1,1,2)\n",
    "\n",
    "    a = (y2 - y1)/(x2 - x1)\n",
    "\n",
    "    b = random.uniform(-1, 1)\n",
    "\n",
    "    def f(x):\n",
    "        y = a*x + b\n",
    "        return y\n",
    "    \n",
    "    # Create training dataset by selecting N random points, and evaluating f on them\n",
    "    dataset = create_dataset(f, N)\n",
    "        \n",
    "    return (f, dataset)"
   ]
  },
  {
   "cell_type": "markdown",
   "metadata": {},
   "source": [
    "## Visualization example of one experimentation"
   ]
  },
  {
   "cell_type": "code",
   "execution_count": 3,
   "metadata": {},
   "outputs": [
    {
     "data": {
      "image/png": "[encoded data removed]",
      "text/plain": [
       "<Figure size 432x288 with 1 Axes>"
      ]
     },
     "metadata": {},
     "output_type": "display_data"
    }
   ],
   "source": [
    "# f is our target function\n",
    "# dataset is training dataset\n",
    "f, dataset = create_experiment(100)\n",
    "\n",
    "plt.axis([-1, 1, -1, 1])\n",
    "\n",
    "x = np.linspace(-1, 1, 2)\n",
    "plt.plot(x, f(x))\n",
    "\n",
    "for data in dataset:\n",
    "    point = data[0]\n",
    "    output = data[1]\n",
    "    plt.plot(point[0], point[1],  'go' if output > 0 else 'ro')"
   ]
  },
  {
   "cell_type": "markdown",
   "metadata": {},
   "source": [
    "## Run the Perceptron Learning Algorithm"
   ]
  },
  {
   "cell_type": "code",
   "execution_count": 4,
   "metadata": {},
   "outputs": [],
   "source": [
    "def is_misclassified_point(w, data):\n",
    "    return (np.sign(np.dot(w, [1, data[0][0], data[0][1]])) != data[1])"
   ]
  },
  {
   "cell_type": "code",
   "execution_count": null,
   "metadata": {},
   "outputs": [],
   "source": []
  },
  {
   "cell_type": "code",
   "execution_count": 5,
   "metadata": {},
   "outputs": [],
   "source": [
    "# In order to get a reliable estimate for these two quantities, you should repeat the experiment for 1000 runs\n",
    "NUMBER_OF_RUNS = 1000\n",
    "\n",
    "# N is the number of training points used in the experiment\n",
    "def repeat_experiment(N):\n",
    "    experiments = []\n",
    "    \n",
    "    for _ in range(NUMBER_OF_RUNS):\n",
    "        f, dataset = create_experiment(N)\n",
    "\n",
    "        #  Start the PLA with the weight vector w being all zeros\n",
    "        w = [0,0,0]\n",
    "\n",
    "        # consider sign(0) = 0, so all points are initially misclassified\n",
    "        misclassified_points = dataset\n",
    "\n",
    "        number_of_iterations = 0\n",
    "        while len(misclassified_points) > 0:\n",
    "            # Pick a random misclassified point\n",
    "            data = random.sample(misclassified_points, 1)[0]\n",
    "\n",
    "            # Apply PLA iteration\n",
    "            w = w + np.dot(data[1], [1, data[0][0], data[0][1]])\n",
    "\n",
    "            misclassified_points = list(filter(lambda data: is_misclassified_point(w, data), dataset))\n",
    "            number_of_iterations += 1\n",
    "\n",
    "        # Disagreement probability between g and f\n",
    "        # approximate it by generating a sufficiently large, separate set of points to estimate it.\n",
    "        SEPARATED_DATASET_SIZE = 1000\n",
    "        separated_dataset = create_dataset(f, SEPARATED_DATASET_SIZE)\n",
    "\n",
    "        new_misclassified_points = list(filter(lambda data: is_misclassified_point(w, data), separated_dataset))\n",
    "\n",
    "        error_rate = len(new_misclassified_points)/len(separated_dataset)\n",
    "\n",
    "        experiments.append([number_of_iterations, error_rate])\n",
    "        \n",
    "    return experiments\n",
    "    \n",
    "def avg_number_of_iterations(experiments):\n",
    "    return reduce(lambda accumulator, s: accumulator + s[0], experiments, 0)/len(experiments)\n",
    "\n",
    "def avg_error_rate(experiments):\n",
    "    return reduce(lambda accumulator, s: accumulator + s[1], experiments, 0)/len(experiments)"
   ]
  },
  {
   "cell_type": "markdown",
   "metadata": {},
   "source": [
    "### For N = 10 training points:"
   ]
  },
  {
   "cell_type": "code",
   "execution_count": 6,
   "metadata": {},
   "outputs": [
    {
     "name": "stdout",
     "output_type": "stream",
     "text": [
      "Average number of iterations is: 9.28\n",
      "Average disagreement is: 0.10337300000000012\n"
     ]
    }
   ],
   "source": [
    "experiments = repeat_experiment(10)\n",
    "\n",
    "print(f'Average number of iterations is: {avg_number_of_iterations(experiments)}')\n",
    "print(f'Average disagreement is: {avg_error_rate(experiments)}')"
   ]
  },
  {
   "cell_type": "markdown",
   "metadata": {},
   "source": [
    "### For N = 100 training points:"
   ]
  },
  {
   "cell_type": "code",
   "execution_count": 7,
   "metadata": {},
   "outputs": [
    {
     "name": "stdout",
     "output_type": "stream",
     "text": [
      "Average number of iterations is: 121.366\n",
      "Average disagreement is: 0.013750999999999956\n"
     ]
    }
   ],
   "source": [
    "experiments = repeat_experiment(100)\n",
    "\n",
    "print(f'Average number of iterations is: {avg_number_of_iterations(experiments)}')\n",
    "print(f'Average disagreement is: {avg_error_rate(experiments)}')"
   ]
  }
 ],
 "metadata": {
  "kernelspec": {
   "display_name": "Python 3",
   "language": "python",
   "name": "python3"
  },
  "language_info": {
   "codemirror_mode": {
    "name": "ipython",
    "version": 3
   },
   "file_extension": ".py",
   "mimetype": "text/x-python",
   "name": "python",
   "nbconvert_exporter": "python",
   "pygments_lexer": "ipython3",
   "version": "3.7.6"
  }
 },
 "nbformat": 4,
 "nbformat_minor": 4
}
