{
 "cells": [
  {
   "cell_type": "markdown",
   "metadata": {},
   "source": [
    "# The Perceptron Learning Algorithm\n",
    "\n",
    "> In this problem, you will create your own target function f and data set D to see\n",
    "how the Perceptron Learning Algorithm works. Take d = 2 so you can visualize the\n",
    "problem, and assume X = [−1, 1] × [−1, 1] with uniform probability of picking each\n",
    "x ∈ X ."
   ]
  },
  {
   "cell_type": "code",
   "execution_count": 1,
   "metadata": {},
   "outputs": [],
   "source": [
    "%matplotlib inline\n",
    "import matplotlib.pyplot as plt\n",
    "plt.style.use('seaborn-whitegrid')\n",
    "import numpy as np\n",
    "import random\n",
    "import math\n",
    "from functools import reduce"
   ]
  },
  {
   "cell_type": "markdown",
   "metadata": {},
   "source": [
    "## Create the experiment\n",
    "\n",
    "> In each run, **choose a random line in the plane as your target function f** (do this by\n",
    "taking two random, uniformly distributed points in [−1, 1] × [−1, 1] and taking the\n",
    "line passing through them), where one side of the line maps to +1 and the other maps\n",
    "to −1. **Choose the inputs xn of the data set as random points (uniformly in X ), and\n",
    "evaluate the target function on each xn to get the corresponding output yn.**"
   ]
  },
  {
   "cell_type": "code",
   "execution_count": 2,
   "metadata": {},
   "outputs": [],
   "source": [
    "# Create a dataset of N training points, evaluated with the target function f\n",
    "def create_dataset(f, N):\n",
    "    dataset = [];\n",
    "    \n",
    "    for _ in range(N):\n",
    "        # Choose the inputs xn of the data set as random points\n",
    "        x1, x2 = np.random.uniform(-1,1,2)\n",
    "        \n",
    "        # evaluate the target function on each xn to get the corresponding output yn.\n",
    "        y = 1 if x2 > f(x1) else -1\n",
    "\n",
    "        dataset.append([[x1, x2], y])\n",
    "    \n",
    "    return dataset;\n",
    "\n",
    "# Create an experiment: target function and dataset of N training points\n",
    "def create_experiment(N):\n",
    "    # Choose a random line in the plane as your target function f\n",
    "    x1, y1 = np.random.uniform(-1,1,2)\n",
    "    x2, y2 = np.random.uniform(-1,1,2)\n",
    "\n",
    "    a = (y2 - y1)/(x2 - x1)\n",
    "\n",
    "    b = random.uniform(-1, 1)\n",
    "\n",
    "    def f(x):\n",
    "        y = a*x + b\n",
    "        return y\n",
    "    \n",
    "    # Create training dataset by selecting N random points, and evaluating f on them\n",
    "    dataset = create_dataset(f, N)\n",
    "        \n",
    "    return (f, dataset)"
   ]
  },
  {
   "cell_type": "markdown",
   "metadata": {},
   "source": [
    "## Visualization example of one experimentation"
   ]
  },
  {
   "cell_type": "code",
   "execution_count": 3,
   "metadata": {},
   "outputs": [
    {
     "data": {
      "image/png": "[encoded data removed]",
      "text/plain": [
       "<Figure size 432x288 with 1 Axes>"
      ]
     },
     "metadata": {},
     "output_type": "display_data"
    }
   ],
   "source": [
    "# f is our target function\n",
    "# dataset is training dataset\n",
    "f, dataset = create_experiment(100)\n",
    "\n",
    "plt.axis([-1, 1, -1, 1])\n",
    "\n",
    "x = np.linspace(-1, 1, 2)\n",
    "plt.plot(x, f(x))\n",
    "\n",
    "for data in dataset:\n",
    "    point = data[0]\n",
    "    output = data[1]\n",
    "    plt.plot(point[0], point[1],  'go' if output > 0 else 'ro')"
   ]
  },
  {
   "cell_type": "markdown",
   "metadata": {},
   "source": [
    "## Run the Perceptron Learning Algorithm"
   ]
  },
  {
   "cell_type": "code",
   "execution_count": 4,
   "metadata": {},
   "outputs": [],
   "source": [
    "def is_misclassified_point(w, data):\n",
    "    return (np.sign(np.dot(w, [1, data[0][0], data[0][1]])) != data[1])"
   ]
  },
  {
   "cell_type": "code",
   "execution_count": null,
   "metadata": {},
   "outputs": [],
   "source": []
  },
  {
   "cell_type": "code",
   "execution_count": 5,
   "metadata": {},
   "outputs": [],
   "source": [
    "# In order to get a reliable estimate for these two quantities, you should repeat the experiment for 1000 runs\n",
    "NUMBER_OF_RUNS = 1000\n",
    "\n",
    "# N is the number of training points used in the experiment\n",
    "def repeat_experiment(N):\n",
    "    experiments = []\n",
    "    \n",
    "    for _ in range(NUMBER_OF_RUNS):\n",
    "        f, dataset = create_experiment(N)\n",
    "\n",
    "        #  Start the PLA with the weight vector w being all zeros\n",
    "        w = [0,0,0]\n",
    "\n",
    "        # consider sign(0) = 0, so all points are initially misclassified\n",
    "        misclassified_points = dataset\n",
    "\n",
    "        number_of_iterations = 0\n",
    "        while len(misclassified_points) > 0:\n",
    "            # Pick a random misclassified point\n",
    "            data = random.sample(misclassified_points, 1)[0]\n",
    "\n",
    "            # Apply PLA iteration\n",
    "            w = w + np.dot(data[1], [1, data[0][0], data[0][1]])\n",
    "\n",
    "            misclassified_points = list(filter(lambda data: is_misclassified_point(w, data), dataset))\n",
    "            number_of_iterations += 1\n",
    "\n",
    "        # Disagreement probability between g and f\n",
    "        # approximate it by generating a sufficiently large, separate set of points to estimate it.\n",
    "        SEPARATED_DATASET_SIZE = 1000\n",
    "        separated_dataset = create_dataset(f, SEPARATED_DATASET_SIZE)\n",
    "\n",
    "        new_misclassified_points = list(filter(lambda data: is_misclassified_point(w, data), separated_dataset))\n",
    "\n",
    "        error_rate = len(new_misclassified_points)/len(separated_dataset)\n",
    "\n",
    "        experiments.append([number_of_iterations, error_rate])\n",
    "        \n",
    "    return experiments\n",
    "    \n",
    "def avg_number_of_iterations(experiments):\n",
    "    return reduce(lambda accumulator, s: accumulator + s[0], experiments, 0)/len(experiments)\n",
    "\n",
    "def avg_error_rate(experiments):\n",
    "    return reduce(lambda accumulator, s: accumulator + s[1], experiments, 0)/len(experiments)"
   ]
  },
  {
   "cell_type": "markdown",
   "metadata": {},
   "source": [
    "### For N = 10 training points:"
   ]
  },
  {
   "cell_type": "code",
   "execution_count": 6,
   "metadata": {},
   "outputs": [
    {
     "name": "stdout",
     "output_type": "stream",
     "text": [
      "Average number of iterations is: 9.28\n",
      "Average disagreement is: 0.10337300000000012\n"
     ]
    }
   ],
   "source": [
    "experiments = repeat_experiment(10)\n",
    "\n",
    "print(f'Average number of iterations is: {avg_number_of_iterations(experiments)}')\n",
    "print(f'Average disagreement is: {avg_error_rate(experiments)}')"
   ]
  },
  {
   "cell_type": "markdown",
   "metadata": {},
   "source": [
    "### For N = 100 training points:"
   ]
  },
  {
   "cell_type": "code",
   "execution_count": null,
   "metadata": {},
   "outputs": [],
   "source": [
    "experiments = repeat_experiment(100)\n",
    "\n",
    "print(f'Average number of iterations is: {avg_number_of_iterations(experiments)}')\n",
    "print(f'Average disagreement is: {avg_error_rate(experiments)}')"
   ]
  },
  {
   "cell_type": "markdown",
   "metadata": {},
   "source": [
    "## Use Linear Regression first"
   ]
  },
  {
   "cell_type": "code",
   "execution_count": 69,
   "metadata": {},
   "outputs": [
    {
     "data": {
      "image/png": "[encoded data removed]",
      "text/plain": [
       "<Figure size 432x288 with 1 Axes>"
      ]
     },
     "metadata": {},
     "output_type": "display_data"
    }
   ],
   "source": [
    "f, dataset = create_experiment(100)\n",
    "\n",
    "plt.axis([-1, 1, -1, 1])\n",
    "\n",
    "x = np.linspace(-1, 1, 2)\n",
    "plt.plot(x, f(x))\n",
    "\n",
    "for data in dataset:\n",
    "    point = data[0]\n",
    "    output = data[1]\n",
    "    plt.plot(point[0], point[1],  'go' if output > 0 else 'ro')"
   ]
  },
  {
   "cell_type": "code",
   "execution_count": 70,
   "metadata": {},
   "outputs": [
    {
     "name": "stdout",
     "output_type": "stream",
     "text": [
      "[[ 1.          0.96945192  0.2643473 ]\n",
      " [ 1.          0.53677646 -0.66210102]\n",
      " [ 1.         -0.32359026 -0.74438983]\n",
      " [ 1.          0.54147004 -0.86939004]\n",
      " [ 1.          0.90111012  0.14771547]\n",
      " [ 1.         -0.65394087 -0.3357169 ]\n",
      " [ 1.          0.09155653 -0.74004115]\n",
      " [ 1.         -0.99935309 -0.05567728]\n",
      " [ 1.          0.68283451  0.60785234]\n",
      " [ 1.         -0.30348709 -0.17519531]\n",
      " [ 1.          0.55081534 -0.20675471]\n",
      " [ 1.          0.47926357  0.02550084]\n",
      " [ 1.         -0.05785743 -0.66337342]\n",
      " [ 1.         -0.38787655  0.03202275]\n",
      " [ 1.          0.21436155 -0.70609192]\n",
      " [ 1.         -0.46515003  0.28772502]\n",
      " [ 1.          0.79881144  0.60228108]\n",
      " [ 1.          0.06868301 -0.71456324]\n",
      " [ 1.          0.33153098 -0.60333264]\n",
      " [ 1.         -0.62554447 -0.25598606]\n",
      " [ 1.          0.66684388  0.52620034]\n",
      " [ 1.          0.50285069  0.27310863]\n",
      " [ 1.         -0.04504276  0.14912379]\n",
      " [ 1.         -0.89658283 -0.43504595]\n",
      " [ 1.         -0.27454724  0.93857651]\n",
      " [ 1.          0.80512764 -0.40181755]\n",
      " [ 1.         -0.89118428 -0.56551246]\n",
      " [ 1.          0.6902047   0.81166146]\n",
      " [ 1.         -0.43228293  0.73409914]\n",
      " [ 1.         -0.79030144  0.34339789]\n",
      " [ 1.         -0.77238891  0.42414673]\n",
      " [ 1.          0.54837024 -0.39239826]\n",
      " [ 1.          0.8301873  -0.37818332]\n",
      " [ 1.         -0.06746852 -0.4482719 ]\n",
      " [ 1.          0.40455423  0.12990876]\n",
      " [ 1.          0.13565393 -0.73044051]\n",
      " [ 1.          0.34278325  0.41638114]\n",
      " [ 1.          0.9866579  -0.95164227]\n",
      " [ 1.          0.45478907 -0.4355708 ]\n",
      " [ 1.         -0.92983229 -0.19973571]\n",
      " [ 1.         -0.95734975 -0.30096068]\n",
      " [ 1.         -0.14822118 -0.54640255]\n",
      " [ 1.          0.64549089  0.31913283]\n",
      " [ 1.         -0.67847057  0.23738145]\n",
      " [ 1.          0.74366562 -0.90199693]\n",
      " [ 1.          0.68776447 -0.76038757]\n",
      " [ 1.          0.51445857 -0.61890749]\n",
      " [ 1.          0.81440184  0.34292121]\n",
      " [ 1.          0.84385338 -0.30698175]\n",
      " [ 1.          0.94847394  0.70931701]\n",
      " [ 1.          0.42918248 -0.22336345]\n",
      " [ 1.          0.81071966  0.58871485]\n",
      " [ 1.          0.51967458  0.77172602]\n",
      " [ 1.         -0.82403124 -0.04352935]\n",
      " [ 1.         -0.01846943 -0.91468209]\n",
      " [ 1.          0.02833554 -0.08775497]\n",
      " [ 1.          0.06099821 -0.41551665]\n",
      " [ 1.          0.41908874  0.65614783]\n",
      " [ 1.          0.99693936 -0.0166065 ]\n",
      " [ 1.          0.29398961 -0.25476557]\n",
      " [ 1.          0.92367787 -0.78682163]\n",
      " [ 1.         -0.44296253  0.4484518 ]\n",
      " [ 1.         -0.15784606  0.34061601]\n",
      " [ 1.          0.99584522  0.97429291]\n",
      " [ 1.          0.06157449  0.15433073]\n",
      " [ 1.          0.42876096  0.94975486]\n",
      " [ 1.          0.55179393 -0.89698742]\n",
      " [ 1.         -0.04136477  0.57010427]\n",
      " [ 1.          0.6025692  -0.83879294]\n",
      " [ 1.         -0.03422369  0.00772173]\n",
      " [ 1.         -0.32616805  0.3361905 ]\n",
      " [ 1.         -0.21473391  0.38520707]\n",
      " [ 1.         -0.66480459  0.85836125]\n",
      " [ 1.         -0.02471544  0.04764823]\n",
      " [ 1.          0.0778105  -0.82725101]\n",
      " [ 1.         -0.97123387  0.64619314]\n",
      " [ 1.          0.20967197 -0.50696068]\n",
      " [ 1.         -0.26922323  0.64295207]\n",
      " [ 1.         -0.83964436  0.26333032]\n",
      " [ 1.          0.80583292 -0.51311404]\n",
      " [ 1.         -0.68727883  0.82932883]\n",
      " [ 1.         -0.72018213  0.05152886]\n",
      " [ 1.         -0.44977487 -0.0037209 ]\n",
      " [ 1.          0.70239228  0.18794703]\n",
      " [ 1.         -0.40369995  0.79064108]\n",
      " [ 1.         -0.23380092 -0.95430998]\n",
      " [ 1.          0.07418581 -0.05316749]\n",
      " [ 1.          0.17508741  0.44743036]\n",
      " [ 1.         -0.31940927 -0.07539103]\n",
      " [ 1.         -0.49432404 -0.14158334]\n",
      " [ 1.         -0.17212916 -0.35832697]\n",
      " [ 1.          0.38051322 -0.75558156]\n",
      " [ 1.         -0.31292257 -0.38961144]\n",
      " [ 1.          0.98555851  0.9950759 ]\n",
      " [ 1.         -0.63774336 -0.61868413]\n",
      " [ 1.         -0.60731108  0.37374224]\n",
      " [ 1.         -0.63794429  0.18833188]\n",
      " [ 1.         -0.58245011  0.49990033]\n",
      " [ 1.         -0.09966531 -0.12766758]\n",
      " [ 1.         -0.46021746 -0.63148231]]\n",
      "[ 1 -1 -1 -1  1 -1 -1 -1  1 -1  1  1 -1  1 -1  1  1 -1 -1 -1  1  1  1 -1\n",
      "  1  1 -1  1  1  1  1  1  1 -1  1 -1  1 -1 -1 -1 -1 -1  1  1 -1 -1 -1  1\n",
      "  1  1  1  1  1 -1 -1  1 -1  1  1  1 -1  1  1  1  1  1 -1  1 -1  1  1  1\n",
      "  1  1 -1  1 -1  1  1  1  1  1  1  1  1 -1  1  1  1 -1 -1 -1 -1  1 -1  1\n",
      "  1  1  1 -1]\n"
     ]
    }
   ],
   "source": [
    "X = np.array(list(map(lambda x: [1] + x[0], dataset)))\n",
    "print(X)\n",
    "y = np.array(list(map(lambda x: x[1], dataset)))\n",
    "print(y)"
   ]
  },
  {
   "cell_type": "code",
   "execution_count": 71,
   "metadata": {},
   "outputs": [
    {
     "name": "stdout",
     "output_type": "stream",
     "text": [
      "[0.26048937 0.331293   1.42608272]\n"
     ]
    }
   ],
   "source": [
    "# Using pseudo-inverse\n",
    "pseudo_inverse = np.dot(np.linalg.inv(np.dot(X.transpose(), X)), X.transpose())\n",
    "\n",
    "w = np.dot(pseudo_inverse, y)\n",
    "print(w)"
   ]
  },
  {
   "cell_type": "code",
   "execution_count": 72,
   "metadata": {},
   "outputs": [
    {
     "name": "stdout",
     "output_type": "stream",
     "text": [
      "[0.26048937 0.331293   1.42608272]\n"
     ]
    },
    {
     "data": {
      "text/plain": [
       "0.5830939785412568"
      ]
     },
     "execution_count": 72,
     "metadata": {},
     "output_type": "execute_result"
    }
   ],
   "source": [
    "## Using Scikit\n",
    "import numpy as np\n",
    "from sklearn.linear_model import LinearRegression\n",
    "\n",
    "reg = LinearRegression().fit(X, y)\n",
    "\n",
    "w = reg.coef_\n",
    "w[0] = reg.intercept_\n",
    "print(w)\n",
    "\n",
    "reg.score(X,y)"
   ]
  },
  {
   "cell_type": "code",
   "execution_count": 73,
   "metadata": {},
   "outputs": [
    {
     "data": {
      "image/png": "[encoded data removed]",
      "text/plain": [
       "<Figure size 432x288 with 1 Axes>"
      ]
     },
     "metadata": {},
     "output_type": "display_data"
    }
   ],
   "source": [
    "plt.axis([-1, 1, -1, 1])\n",
    "\n",
    "x = np.linspace(-1, 1, 2)\n",
    "plt.plot(x, f(x))\n",
    "\n",
    "def g(x):\n",
    "    y = -(w[1]*x+w[0])/w[2]\n",
    "    return y\n",
    "\n",
    "plt.plot(x, g(x))\n",
    "\n",
    "for data in dataset:\n",
    "    point = data[0]\n",
    "    output = data[1]\n",
    "    plt.plot(point[0], point[1],  'go' if output > 0 else 'ro')"
   ]
  }
 ],
 "metadata": {
  "kernelspec": {
   "display_name": "Python 3",
   "language": "python",
   "name": "python3"
  },
  "language_info": {
   "codemirror_mode": {
    "name": "ipython",
    "version": 3
   },
   "file_extension": ".py",
   "mimetype": "text/x-python",
   "name": "python",
   "nbconvert_exporter": "python",
   "pygments_lexer": "ipython3",
   "version": "3.7.6"
  }
 },
 "nbformat": 4,
 "nbformat_minor": 4
}
