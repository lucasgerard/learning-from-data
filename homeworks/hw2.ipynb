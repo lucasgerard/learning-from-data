{
 "cells": [
  {
   "cell_type": "markdown",
   "metadata": {},
   "source": [
    "# Hoeffding Inequality\n",
    "\n",
    "Run a computer simulation for flipping 1,000 virtual fair coins. Flip each coin independently 10 times.\n",
    "\n",
    "Note: this is a first naive implementation, below is a much faster one using binomial distribution..."
   ]
  },
  {
   "cell_type": "code",
   "execution_count": 1,
   "metadata": {},
   "outputs": [],
   "source": [
    "import random\n",
    "import numpy as np"
   ]
  },
  {
   "cell_type": "code",
   "execution_count": 73,
   "metadata": {},
   "outputs": [],
   "source": [
    "def run_experiment():\n",
    "    coins_flips = []\n",
    "\n",
    "    # 0 is tail\n",
    "    # 1 is head\n",
    "    \n",
    "    # For 1000 coins\n",
    "    for _ in range(1000):\n",
    "        coin_flips = []\n",
    "        \n",
    "        # Flip the coin 10 times\n",
    "        for _ in range(10):\n",
    "            coin_flips.append(random.choice([0,1]))\n",
    "        \n",
    "        coins_flips.append(coin_flips)\n",
    "\n",
    "    # c1 is the first coin flipped\n",
    "    c_1 = coins_flips[0]\n",
    "    ν1 = sum(c_1)/10\n",
    "\n",
    "    # crand is a coin chosen randomly from the 1,000\n",
    "    c_rand = random.choice(coins_flips)\n",
    "    νrand = sum(c_rand)/10\n",
    "\n",
    "    # cmin is the coin which had the minimum frequency of heads\n",
    "    coins_heads_frequency = list(map(lambda x: sum(x), coins_flips))\n",
    "    min_heads_frequency = min(coins_heads_frequency)\n",
    "    a = np.array(coins_heads_frequency)\n",
    "    index = np.where(a == min_heads_frequency)[0][0]\n",
    "    c_min = coins_flips[index]\n",
    "    νmin = sum(c_min)/10\n",
    "    \n",
    "    return (ν1, νrand, νmin)"
   ]
  },
  {
   "cell_type": "code",
   "execution_count": 85,
   "metadata": {},
   "outputs": [
    {
     "name": "stdout",
     "output_type": "stream",
     "text": [
      "0.00503\n"
     ]
    }
   ],
   "source": [
    "experiments = []\n",
    "\n",
    "# Run the experiment 100,000 times in order to get a full distribution of ν1, νrand, and νmin\n",
    "NUMBER_OF_RUNS = 100000\n",
    "\n",
    "for _ in range(NUMBER_OF_RUNS):\n",
    "    experiments.append(run_experiment())"
   ]
  },
  {
   "cell_type": "markdown",
   "metadata": {},
   "source": [
    "## Question 1"
   ]
  },
  {
   "cell_type": "code",
   "execution_count": 186,
   "metadata": {},
   "outputs": [
    {
     "ename": "NameError",
     "evalue": "name 'experiments' is not defined",
     "output_type": "error",
     "traceback": [
      "\u001b[0;31m---------------------------------------------------------------------------\u001b[0m",
      "\u001b[0;31mNameError\u001b[0m                                 Traceback (most recent call last)",
      "\u001b[0;32m<ipython-input-186-eb6a4a7dcd46>\u001b[0m in \u001b[0;36m<module>\u001b[0;34m\u001b[0m\n\u001b[0;32m----> 1\u001b[0;31m \u001b[0mavg_νmin\u001b[0m \u001b[0;34m=\u001b[0m \u001b[0msum\u001b[0m\u001b[0;34m(\u001b[0m\u001b[0mlist\u001b[0m\u001b[0;34m(\u001b[0m\u001b[0mmap\u001b[0m\u001b[0;34m(\u001b[0m\u001b[0;32mlambda\u001b[0m \u001b[0mx\u001b[0m\u001b[0;34m:\u001b[0m \u001b[0mx\u001b[0m\u001b[0;34m[\u001b[0m\u001b[0;36m2\u001b[0m\u001b[0;34m]\u001b[0m\u001b[0;34m,\u001b[0m \u001b[0mexperiments\u001b[0m\u001b[0;34m)\u001b[0m\u001b[0;34m)\u001b[0m\u001b[0;34m)\u001b[0m\u001b[0;34m/\u001b[0m\u001b[0mNUMBER_OF_RUNS\u001b[0m\u001b[0;34m\u001b[0m\u001b[0;34m\u001b[0m\u001b[0m\n\u001b[0m\u001b[1;32m      2\u001b[0m \u001b[0mprint\u001b[0m\u001b[0;34m(\u001b[0m\u001b[0;34mf'Average νmin is {avg_νmin}, therefore closest to 0.01: Answer [B]'\u001b[0m\u001b[0;34m)\u001b[0m\u001b[0;34m\u001b[0m\u001b[0;34m\u001b[0m\u001b[0m\n",
      "\u001b[0;31mNameError\u001b[0m: name 'experiments' is not defined"
     ]
    }
   ],
   "source": [
    "avg_νmin = sum(list(map(lambda x: x[2], experiments)))/NUMBER_OF_RUNS\n",
    "print(f'Average νmin is {avg_νmin}, therefore closest to 0.01: Answer [B]')"
   ]
  },
  {
   "cell_type": "markdown",
   "metadata": {},
   "source": [
    "## 1.1-bis Hoeffding Inequality with binomial distribution"
   ]
  },
  {
   "cell_type": "code",
   "execution_count": 189,
   "metadata": {},
   "outputs": [
    {
     "name": "stdout",
     "output_type": "stream",
     "text": [
      "Average νmin is 0.03736299999999999, therefore closest to 0.01: Answer [B])\n"
     ]
    }
   ],
   "source": [
    "import scipy.special\n",
    "\n",
    "N = 100000\n",
    "v_first = np.zeros(N)\n",
    "v_min = np.zeros(N)\n",
    "v_rand = np.zeros(N)\n",
    "\n",
    "#Loop starts\n",
    "for i in range(N):\n",
    "    n,p = 10, 0.5\n",
    "    flips = np.random.binomial(n, p, 1000)\n",
    "\n",
    "    # Indices\n",
    "    first_coin = 0\n",
    "    min_coin = np.argmin(flips)\n",
    "    rand_coin = np.random.randint(0,1000)\n",
    "\n",
    "    v_first[i] = flips[first_coin]/n\n",
    "    v_min[i] = flips[min_coin]/n\n",
    "    v_rand[i] = flips[rand_coin]/n\n",
    "\n",
    "#Loop ends\n",
    "\n",
    "print(f'Average νmin is {np.average(v_min)}, therefore closest to 0.01: Answer [B])')\n",
    "\n"
   ]
  },
  {
   "cell_type": "code",
   "execution_count": 188,
   "metadata": {},
   "outputs": [
    {
     "name": "stdout",
     "output_type": "stream",
     "text": [
      "[6 4 7 6 4 2 6 6 4 4]\n"
     ]
    }
   ],
   "source": [
    "# Sandbox\n",
    "n,p = 10, 0.5\n",
    "flips = np.random.binomial(n, p, 10)\n",
    "print(flips)"
   ]
  },
  {
   "cell_type": "markdown",
   "metadata": {},
   "source": [
    "### 2. Which coin(s) has a distribution of ν that satisfies the (single-bin) Hoeffding Inequality?\n",
    "\n",
    "> The main point is that once you consider the sample, the probability becomes conditional on how this sample came out, and that could violate the 2e^{-2\\epsilon^2N} bound, whereas the probability before a sample was drawn always obeys the bound.\n",
    "\n",
    "Therefore only c1 and c_rand satisfy: Answer [D]"
   ]
  },
  {
   "cell_type": "markdown",
   "metadata": {},
   "source": [
    "# Linear Regression"
   ]
  },
  {
   "cell_type": "code",
   "execution_count": 4,
   "metadata": {},
   "outputs": [],
   "source": [
    "import nbimporter\n",
    "from hw1 import is_misclassified_point, create_dataset, create_experiment\n",
    "%matplotlib inline\n",
    "import matplotlib.pyplot as plt\n",
    "plt.style.use('seaborn-whitegrid')"
   ]
  },
  {
   "cell_type": "markdown",
   "metadata": {},
   "source": [
    "### Illustration of Linear Regression"
   ]
  },
  {
   "cell_type": "code",
   "execution_count": 10,
   "metadata": {},
   "outputs": [],
   "source": [
    "f, dataset = create_experiment(100)"
   ]
  },
  {
   "cell_type": "code",
   "execution_count": 11,
   "metadata": {},
   "outputs": [
    {
     "name": "stdout",
     "output_type": "stream",
     "text": [
      "[0.39802354 0.2636148  1.24667411]\n"
     ]
    }
   ],
   "source": [
    "# We can find w either using the Pseudo-Inverse\n",
    "def pseudo_inverse(dataset):\n",
    "    X = np.array(list(map(lambda x: [1] + x[0], dataset)))\n",
    "\n",
    "    y = np.array(list(map(lambda x: x[1], dataset)))\n",
    "\n",
    "    # Using pseudo-inverse\n",
    "    pseudo_inverse = np.dot(np.linalg.inv(np.dot(X.transpose(), X)), X.transpose())\n",
    "\n",
    "    w = np.dot(pseudo_inverse, y)\n",
    "    \n",
    "    return w\n",
    "\n",
    "w = pseudo_inverse(dataset)\n",
    "print(w)"
   ]
  },
  {
   "cell_type": "code",
   "execution_count": 12,
   "metadata": {},
   "outputs": [
    {
     "name": "stdout",
     "output_type": "stream",
     "text": [
      "[0.39802354 0.2636148  1.24667411]\n"
     ]
    },
    {
     "data": {
      "text/plain": [
       "0.46864097866442167"
      ]
     },
     "execution_count": 12,
     "metadata": {},
     "output_type": "execute_result"
    }
   ],
   "source": [
    "# Or we can use Scikit Linear Regression\n",
    "import numpy as np\n",
    "from sklearn.linear_model import LinearRegression\n",
    "\n",
    "X = np.array(list(map(lambda x: [1] + x[0], dataset)))\n",
    "\n",
    "y = np.array(list(map(lambda x: x[1], dataset)))\n",
    "\n",
    "reg = LinearRegression().fit(X, y)\n",
    "\n",
    "sci_w = reg.coef_\n",
    "sci_w[0] = reg.intercept_\n",
    "print(sci_w)\n",
    "\n",
    "reg.score(X,y)"
   ]
  },
  {
   "cell_type": "code",
   "execution_count": 13,
   "metadata": {},
   "outputs": [
    {
     "name": "stdout",
     "output_type": "stream",
     "text": [
      "54\n",
      "[2.39802354 1.09799609 5.84751276]\n"
     ]
    }
   ],
   "source": [
    "# Apply PLA on Linear Regression weights, using them as initial vector\n",
    "pla_w = w\n",
    "\n",
    "misclassified_points = list(filter(lambda x: is_misclassified_point(pla_w, x), dataset))\n",
    "\n",
    "i = 0\n",
    "while len(misclassified_points) > 0:\n",
    "    # Pick a random misclassified point\n",
    "    data = random.sample(misclassified_points, 1)[0]\n",
    "\n",
    "    # Apply PLA iteration\n",
    "    pla_w = pla_w + np.dot(data[1], [1, data[0][0], data[0][1]])\n",
    "\n",
    "    misclassified_points = list(filter(lambda x: is_misclassified_point(pla_w, x), dataset))\n",
    "    i += 1\n",
    "    \n",
    "print(i)\n",
    "print(pla_w)"
   ]
  },
  {
   "cell_type": "code",
   "execution_count": 16,
   "metadata": {},
   "outputs": [
    {
     "data": {
      "image/png": "[encoded data removed]",
      "text/plain": [
       "<Figure size 432x288 with 1 Axes>"
      ]
     },
     "metadata": {},
     "output_type": "display_data"
    }
   ],
   "source": [
    "plt.axis([-1, 1, -1, 1])\n",
    "\n",
    "x = np.linspace(-1, 1, 2)\n",
    "plt.plot(x, f(x), color='blue')\n",
    "\n",
    "def g(x):\n",
    "    y = -(w[1]*x+w[0])/w[2]\n",
    "    return y\n",
    "\n",
    "plt.plot(x, g(x), color='yellow')\n",
    "\n",
    "def pla_g(x):\n",
    "    y = -(pla_w[1]*x+pla_w[0])/pla_w[2]\n",
    "    return y\n",
    "\n",
    "plt.plot(x, pla_g(x), color='orange')\n",
    "\n",
    "for data in dataset:\n",
    "    point = data[0]\n",
    "    output = data[1]\n",
    "    plt.plot(point[0], point[1],  'go' if output > 0 else 'ro')"
   ]
  },
  {
   "cell_type": "markdown",
   "metadata": {},
   "source": [
    "### Question 5"
   ]
  },
  {
   "cell_type": "code",
   "execution_count": 43,
   "metadata": {},
   "outputs": [],
   "source": [
    "experiments = []\n",
    "\n",
    "N = 100\n",
    "\n",
    "#  Repeat the experiment 1000 times and take the average\n",
    "for _ in range(1000):\n",
    "    f, dataset = create_experiment(N)\n",
    "    \n",
    "    # Use Linear Regression to find g\n",
    "    w = pseudo_inverse(dataset)\n",
    "    \n",
    "    # evaluate Ein, the fraction of in-sample points which got classified incorrectly\n",
    "    misclassified_points = list(filter(lambda data: is_misclassified_point(w, data), dataset))\n",
    "    Ein = len(misclassified_points)/N\n",
    "    \n",
    "    experiments.append([w, Ein, f, dataset])"
   ]
  },
  {
   "cell_type": "code",
   "execution_count": 44,
   "metadata": {},
   "outputs": [
    {
     "name": "stdout",
     "output_type": "stream",
     "text": [
      "Average Ein is 0.03314, there closed to 0.01: Answer C\n"
     ]
    }
   ],
   "source": [
    "avg_Ein = np.average(list(map(lambda x: x[1], experiments)))\n",
    "print(f'Average Ein is {avg_Ein}, there closed to 0.01: Answer C')"
   ]
  },
  {
   "cell_type": "markdown",
   "metadata": {},
   "source": [
    "### Question 6"
   ]
  },
  {
   "cell_type": "code",
   "execution_count": 45,
   "metadata": {},
   "outputs": [],
   "source": [
    "Eouts = []\n",
    "\n",
    "#  Repeat the experiment 1000 times and take the average\n",
    "for i in range(1000):\n",
    "    # Take the g from Problem 5\n",
    "    experiment = experiments[i]\n",
    "    w = experiment[0]\n",
    "    \n",
    "    f = experiment[2]\n",
    "    \n",
    "    # generate 1000 fresh points and use them to estimate the out-of-sample error Eout of g that you got in Problem 5\n",
    "    SEPARATED_DATASET_SIZE = 1000\n",
    "    separated_dataset = create_dataset(f, SEPARATED_DATASET_SIZE)\n",
    "    \n",
    "    misclassified_points = list(filter(lambda x: is_misclassified_point(w, x), separated_dataset))\n",
    "\n",
    "    error_rate = len(misclassified_points)/SEPARATED_DATASET_SIZE\n",
    "    \n",
    "    Eouts.append(error_rate)"
   ]
  },
  {
   "cell_type": "code",
   "execution_count": 47,
   "metadata": {},
   "outputs": [
    {
     "name": "stdout",
     "output_type": "stream",
     "text": [
      "Average Eout is 0.04286800000000001, there closest to 0.01: Answer C\n"
     ]
    }
   ],
   "source": [
    "avg_Eout = np.average(Eouts)\n",
    "print(f'Average Eout is {avg_Eout}, there closest to 0.01: Answer C')"
   ]
  },
  {
   "cell_type": "markdown",
   "metadata": {},
   "source": [
    "### Question 7"
   ]
  },
  {
   "cell_type": "code",
   "execution_count": 52,
   "metadata": {},
   "outputs": [],
   "source": [
    "N = 10\n",
    "\n",
    "iterations = []\n",
    "\n",
    "#  Repeat the experiment 1000 times and take the average\n",
    "for _ in range(1000):\n",
    "    f, dataset = create_experiment(N)\n",
    "    \n",
    "    # Find weights using Linear Regression \n",
    "    # use them as a vector of initial weights for the Perceptron Learning Algorithm\n",
    "    w = pseudo_inverse(dataset)\n",
    "    \n",
    "    misclassified_points = list(filter(lambda x: is_misclassified_point(w, x), dataset))\n",
    "    \n",
    "    i = 0\n",
    "    while len(misclassified_points) > 0:\n",
    "        # Pick a random misclassified point\n",
    "        data = random.sample(misclassified_points, 1)[0]\n",
    "\n",
    "        # Apply PLA iteration\n",
    "        w = w + np.dot(data[1], [1, data[0][0], data[0][1]])\n",
    "\n",
    "        misclassified_points = list(filter(lambda data: is_misclassified_point(w, data), dataset))\n",
    "        i += 1\n",
    "        \n",
    "    iterations.append(i)"
   ]
  },
  {
   "cell_type": "code",
   "execution_count": 53,
   "metadata": {},
   "outputs": [
    {
     "name": "stdout",
     "output_type": "stream",
     "text": [
      "Average number of iterations is 3.739, there closest to 1: Answer A\n"
     ]
    }
   ],
   "source": [
    "avg_iterations = np.average(iterations)\n",
    "print(f'Average number of iterations is {avg_iterations}, there closest to 1: Answer A')"
   ]
  },
  {
   "cell_type": "markdown",
   "metadata": {},
   "source": [
    "# Nonlinear Transformation"
   ]
  },
  {
   "cell_type": "markdown",
   "metadata": {},
   "source": [
    "### Question 8"
   ]
  },
  {
   "cell_type": "code",
   "execution_count": 93,
   "metadata": {},
   "outputs": [],
   "source": [
    "# Generate a training set of N = 1000 points on X = [−1, 1] × [−1, 1] with a uniform probability of picking each x ∈ X\n",
    "import math\n",
    "\n",
    "# Consider the target function:\n",
    "def f(x):\n",
    "    y = np.sign(x[0]**2 + x[1]**2 - 0.6)\n",
    "    return y\n",
    "\n",
    "def create_dataset_with_noise(N, ratio):\n",
    "    dataset = [];\n",
    "    \n",
    "    for _ in range(N):\n",
    "        # Choose the inputs xn of the data set as random points\n",
    "        x1, x2 = np.random.uniform(-1,1,2)\n",
    "        \n",
    "        \n",
    "        y = f([x1,x2])\n",
    "\n",
    "        dataset.append([[x1,x2], y])\n",
    "        \n",
    "    # Generate simulated noise \n",
    "    # by flipping the sign of the output in a randomly selected 10% subset of the generated training set.\n",
    "    indices = random.sample(range(N), int(float(N)*ratio))\n",
    "\n",
    "    for i in indices:\n",
    "        dataset[i][1] = dataset[i][1] * (-1)\n",
    "    \n",
    "    return dataset;"
   ]
  },
  {
   "cell_type": "code",
   "execution_count": 95,
   "metadata": {},
   "outputs": [],
   "source": [
    "Eins = []\n",
    "\n",
    "N = 1000\n",
    "ratio = 0.1\n",
    "\n",
    "for _ in range(1000):\n",
    "    dataset = create_dataset_with_noise(N, 0.1)\n",
    "    \n",
    "    # Use Linear Regression to find g\n",
    "    w = pseudo_inverse(dataset)\n",
    "    \n",
    "    # evaluate Ein, the fraction of in-sample points which got classified incorrectly\n",
    "    misclassified_points = list(filter(lambda x: is_misclassified_point(w, x), dataset))\n",
    "    Ein = len(misclassified_points)/N\n",
    "    \n",
    "    Eins.append(Ein)"
   ]
  },
  {
   "cell_type": "code",
   "execution_count": 98,
   "metadata": {},
   "outputs": [
    {
     "name": "stdout",
     "output_type": "stream",
     "text": [
      "Average Ein is 0.501289, there closest to 0.5: Answer [D]\n"
     ]
    }
   ],
   "source": [
    "avg_Ein = np.average(Eins)\n",
    "print(f'Average Ein is {avg_Ein}, there closest to 0.5: Answer [D]')"
   ]
  },
  {
   "cell_type": "markdown",
   "metadata": {},
   "source": [
    "### Question 9"
   ]
  },
  {
   "cell_type": "code",
   "execution_count": 162,
   "metadata": {},
   "outputs": [],
   "source": [
    "def fi(x):\n",
    "    y = [1] + x + [x[0] * x[1]] + [x[0]**2] + [x[1]**2]\n",
    "    return y\n",
    "\n",
    "N = 1000\n",
    "noise = 0.1\n",
    "dataset = create_dataset_with_noise(N, noise)\n",
    "\n",
    "#  transform the training data into the nonlinear feature vector, using Fi\n",
    "X = np.array(list(map(lambda x: fi(x[0]), dataset)))\n",
    "\n",
    "# y vector of labels does not change\n",
    "y = np.array(list(map(lambda x: x[1], dataset)))"
   ]
  },
  {
   "cell_type": "code",
   "execution_count": 163,
   "metadata": {},
   "outputs": [],
   "source": [
    "pseudo_inverse = np.dot(np.linalg.inv(np.dot(X.transpose(), X)), X.transpose())\n",
    "\n",
    "w_tild = np.dot(pseudo_inverse, y)"
   ]
  },
  {
   "cell_type": "code",
   "execution_count": 164,
   "metadata": {},
   "outputs": [],
   "source": [
    "w_a = [-1, -0.05, 0.08, 0.13, 1.5, 1.5]\n",
    "w_b = [-1, -0.05, 0.08, 0.13, 1.5, 15]\n",
    "w_c = [-1, -0.05, 0.08, 0.13, 15, 1.5]\n",
    "w_d = [-1, -1.5, 0.08, 0.13, 0.05, 0.05]\n",
    "w_e = [-1, -0.05, 0.08, 1.5, 0.15, 0.15]\n",
    "\n",
    "hypothesis = [w_a, w_b, w_c, w_d, w_e]"
   ]
  },
  {
   "cell_type": "code",
   "execution_count": 165,
   "metadata": {},
   "outputs": [
    {
     "data": {
      "text/plain": [
       "array([96., 70., 62., 57., 54.])"
      ]
     },
     "execution_count": 165,
     "metadata": {},
     "output_type": "execute_result"
    }
   ],
   "source": [
    "# We test other 100 random points which hypothesis agrees the most with our hypothesis\n",
    "indices = random.sample(range(N), int(float(N)*ratio))\n",
    "\n",
    "agreements = np.zeros(5)\n",
    "\n",
    "for i in indices:\n",
    "    data = dataset[i]\n",
    "    \n",
    "    x = data[0]\n",
    "\n",
    "    for j in range(len(hypothesis)):\n",
    "        if np.sign(np.dot(hypothesis[j], fi(x))) == np.sign(np.dot(w_tild, fi(x))):\n",
    "            agreements[j] += 1\n",
    "    \n",
    "agreements"
   ]
  },
  {
   "cell_type": "markdown",
   "metadata": {},
   "source": [
    "The first hypothesis is the closest: Answer [A]"
   ]
  },
  {
   "cell_type": "markdown",
   "metadata": {},
   "source": [
    "### Question 10\n",
    "\n",
    "> What is the closest value to the classification out-of-sample error Eout"
   ]
  },
  {
   "cell_type": "code",
   "execution_count": 183,
   "metadata": {},
   "outputs": [],
   "source": [
    "Eouts = []\n",
    "\n",
    "# Adapt missclassification to Fi transformation\n",
    "def is_missclassified(w, data):\n",
    "    return np.sign(np.dot(w, fi(data[0]))) != data[1]\n",
    "\n",
    "SEPARATED_DATASET_SIZE = 1000\n",
    "\n",
    "# Create 1000 times, 1000 new fresh points to get the average error out-of-sample Eout\n",
    "for _ in range(1000):\n",
    "    separated_dataset = create_dataset_with_noise(SEPARATED_DATASET_SIZE, noise)\n",
    "\n",
    "    misclassified_points = list(filter(lambda x: is_missclassified(w_tild, x), separated_dataset))\n",
    "\n",
    "    error_rate = len(misclassified_points)/SEPARATED_DATASET_SIZE\n",
    "    Eouts.append(error_rate)\n"
   ]
  },
  {
   "cell_type": "code",
   "execution_count": 185,
   "metadata": {},
   "outputs": [
    {
     "name": "stdout",
     "output_type": "stream",
     "text": [
      "Average Eout is 0.12868700000000002, there closest to 0.1: Answer [B]\n"
     ]
    }
   ],
   "source": [
    "avg_Eout = np.average(Eouts)\n",
    "print(f'Average Eout is {avg_Eout}, there closest to 0.1: Answer [B]')"
   ]
  }
 ],
 "metadata": {
  "kernelspec": {
   "display_name": "Python 3",
   "language": "python",
   "name": "python3"
  },
  "language_info": {
   "codemirror_mode": {
    "name": "ipython",
    "version": 3
   },
   "file_extension": ".py",
   "mimetype": "text/x-python",
   "name": "python",
   "nbconvert_exporter": "python",
   "pygments_lexer": "ipython3",
   "version": "3.7.6"
  }
 },
 "nbformat": 4,
 "nbformat_minor": 4
}
