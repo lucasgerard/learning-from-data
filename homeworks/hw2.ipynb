{
 "cells": [
  {
   "cell_type": "markdown",
   "metadata": {},
   "source": [
    "# Hoeffding Inequality\n",
    "\n",
    "Run a computer simulation for flipping 1,000 virtual fair coins. Flip each coin independently 10 times.\n",
    "\n",
    "Note: this is a first naive implementation, below is a much faster one using binomial distribution..."
   ]
  },
  {
   "cell_type": "code",
   "execution_count": 6,
   "metadata": {},
   "outputs": [],
   "source": [
    "import random\n",
    "import numpy as np"
   ]
  },
  {
   "cell_type": "code",
   "execution_count": 73,
   "metadata": {},
   "outputs": [],
   "source": [
    "def run_experiment():\n",
    "    coins_flips = []\n",
    "\n",
    "    # 0 is tail\n",
    "    # 1 is head\n",
    "    \n",
    "    # For 1000 coins\n",
    "    for _ in range(1000):\n",
    "        coin_flips = []\n",
    "        \n",
    "        # Flip the coin 10 times\n",
    "        for _ in range(10):\n",
    "            coin_flips.append(random.choice([0,1]))\n",
    "        \n",
    "        coins_flips.append(coin_flips)\n",
    "\n",
    "    # c1 is the first coin flipped\n",
    "    c_1 = coins_flips[0]\n",
    "    ν1 = sum(c_1)/10\n",
    "\n",
    "    # crand is a coin chosen randomly from the 1,000\n",
    "    c_rand = random.choice(coins_flips)\n",
    "    νrand = sum(c_rand)/10\n",
    "\n",
    "    # cmin is the coin which had the minimum frequency of heads\n",
    "    coins_heads_frequency = list(map(lambda x: sum(x), coins_flips))\n",
    "    min_heads_frequency = min(coins_heads_frequency)\n",
    "    a = np.array(coins_heads_frequency)\n",
    "    index = np.where(a == min_heads_frequency)[0][0]\n",
    "    c_min = coins_flips[index]\n",
    "    νmin = sum(c_min)/10\n",
    "    \n",
    "    return (ν1, νrand, νmin)"
   ]
  },
  {
   "cell_type": "code",
   "execution_count": 85,
   "metadata": {},
   "outputs": [
    {
     "name": "stdout",
     "output_type": "stream",
     "text": [
      "0.00503\n"
     ]
    }
   ],
   "source": [
    "experiments = []\n",
    "\n",
    "# Run the experiment 100,000 times in order to get a full distribution of ν1, νrand, and νmin\n",
    "NUMBER_OF_RUNS = 100000\n",
    "\n",
    "for _ in range(NUMBER_OF_RUNS):\n",
    "    experiments.append(run_experiment())"
   ]
  },
  {
   "cell_type": "markdown",
   "metadata": {},
   "source": [
    "## Question 1"
   ]
  },
  {
   "cell_type": "code",
   "execution_count": 126,
   "metadata": {},
   "outputs": [
    {
     "name": "stdout",
     "output_type": "stream",
     "text": [
      "Average νmin is 0.03812299999997629, therefore closest to answer B (0.01)\n"
     ]
    }
   ],
   "source": [
    "avg_νmin = sum(list(map(lambda x: x[2], experiments)))/NUMBER_OF_RUNS\n",
    "print(f'Average νmin is {avg_νmin}, therefore closest to answer B (0.01)')"
   ]
  },
  {
   "cell_type": "markdown",
   "metadata": {},
   "source": [
    "## 1.1-bis Hoeffding Inequality with binomial distribution"
   ]
  },
  {
   "cell_type": "code",
   "execution_count": 25,
   "metadata": {},
   "outputs": [
    {
     "name": "stdout",
     "output_type": "stream",
     "text": [
      "Average νmin is 0.037795, therefore closest to answer D (0.5)\n"
     ]
    }
   ],
   "source": [
    "import scipy.special\n",
    "\n",
    "N = 100000\n",
    "v_first = np.zeros(N)\n",
    "v_min = np.zeros(N)\n",
    "v_rand = np.zeros(N)\n",
    "\n",
    "#Loop starts\n",
    "for i in range(N):\n",
    "    n,p = 10, 0.5\n",
    "    flips = np.random.binomial(n, p, 1000)\n",
    "\n",
    "    # Indices\n",
    "    first_coin = 0\n",
    "    min_coin = np.argmin(flips)\n",
    "    rand_coin = np.random.randint(0,1000)\n",
    "\n",
    "    v_first[i] = flips[first_coin]/n\n",
    "    v_min[i] = flips[min_coin]/n\n",
    "    v_rand[i] = flips[rand_coin]/n\n",
    "\n",
    "#Loop ends\n",
    "\n",
    "print(f'Average νmin is {np.average(v_min)}, therefore closest to answer D (0.5)')\n",
    "\n"
   ]
  },
  {
   "cell_type": "code",
   "execution_count": 123,
   "metadata": {},
   "outputs": [
    {
     "name": "stdout",
     "output_type": "stream",
     "text": [
      "[8 8 5 6 5 5 5 3 5 7]\n"
     ]
    }
   ],
   "source": [
    "n,p = 10, 0.5\n",
    "flips = np.random.binomial(n, p, 10)\n",
    "print(flips)"
   ]
  },
  {
   "cell_type": "markdown",
   "metadata": {},
   "source": [
    "### 2. Which coin(s) has a distribution of ν that satisfies the (single-bin) Hoeffding Inequality?\n",
    "\n",
    "> The main point is that once you consider the sample, the probability becomes conditional on how this sample came out, and that could violate the 2e^{-2\\epsilon^2N} bound, whereas the probability before a sample was drawn always obeys the bound."
   ]
  },
  {
   "cell_type": "markdown",
   "metadata": {},
   "source": [
    "# Linear Regression"
   ]
  },
  {
   "cell_type": "code",
   "execution_count": 20,
   "metadata": {},
   "outputs": [],
   "source": [
    "import import_ipynb\n",
    "from hw1 import is_misclassified_point, create_dataset, create_experiment\n",
    "%matplotlib inline\n",
    "import matplotlib.pyplot as plt\n",
    "plt.style.use('seaborn-whitegrid')"
   ]
  },
  {
   "cell_type": "markdown",
   "metadata": {},
   "source": [
    "### Illustration of Linear Regression"
   ]
  },
  {
   "cell_type": "code",
   "execution_count": 33,
   "metadata": {},
   "outputs": [],
   "source": [
    "f, dataset = create_experiment(100)"
   ]
  },
  {
   "cell_type": "code",
   "execution_count": 34,
   "metadata": {},
   "outputs": [
    {
     "name": "stdout",
     "output_type": "stream",
     "text": [
      "[-0.28442697 -1.26037714  0.40749928]\n"
     ]
    }
   ],
   "source": [
    "# We can find w either using the Pseudo-Inverse\n",
    "def pseudo_inverse(dataset):\n",
    "    X = np.array(list(map(lambda x: [1] + x[0], dataset)))\n",
    "\n",
    "    y = np.array(list(map(lambda x: x[1], dataset)))\n",
    "\n",
    "    # Using pseudo-inverse\n",
    "    pseudo_inverse = np.dot(np.linalg.inv(np.dot(X.transpose(), X)), X.transpose())\n",
    "\n",
    "    w = np.dot(pseudo_inverse, y)\n",
    "    \n",
    "    return w\n",
    "\n",
    "w = pseudo_inverse(dataset)\n",
    "print(w)"
   ]
  },
  {
   "cell_type": "code",
   "execution_count": 35,
   "metadata": {},
   "outputs": [
    {
     "name": "stdout",
     "output_type": "stream",
     "text": [
      "[-0.28442697 -1.26037714  0.40749928]\n"
     ]
    },
    {
     "data": {
      "text/plain": [
       "0.5759097707025602"
      ]
     },
     "execution_count": 35,
     "metadata": {},
     "output_type": "execute_result"
    }
   ],
   "source": [
    "# Or we can use Scikit Linear Regression\n",
    "import numpy as np\n",
    "from sklearn.linear_model import LinearRegression\n",
    "\n",
    "X = np.array(list(map(lambda x: [1] + x[0], dataset)))\n",
    "\n",
    "y = np.array(list(map(lambda x: x[1], dataset)))\n",
    "\n",
    "reg = LinearRegression().fit(X, y)\n",
    "\n",
    "sci_w = reg.coef_\n",
    "sci_w[0] = reg.intercept_\n",
    "print(sci_w)\n",
    "\n",
    "reg.score(X,y)\n"
   ]
  },
  {
   "cell_type": "code",
   "execution_count": 36,
   "metadata": {},
   "outputs": [
    {
     "data": {
      "image/png": "[encoded data removed]",
      "text/plain": [
       "<Figure size 432x288 with 1 Axes>"
      ]
     },
     "metadata": {},
     "output_type": "display_data"
    }
   ],
   "source": [
    "plt.axis([-1, 1, -1, 1])\n",
    "\n",
    "x = np.linspace(-1, 1, 2)\n",
    "plt.plot(x, f(x))\n",
    "\n",
    "def g(x):\n",
    "    y = -(w[1]*x+w[0])/w[2]\n",
    "    return y\n",
    "\n",
    "plt.plot(x, g(x))\n",
    "\n",
    "for data in dataset:\n",
    "    point = data[0]\n",
    "    output = data[1]\n",
    "    plt.plot(point[0], point[1],  'go' if output > 0 else 'ro')"
   ]
  },
  {
   "cell_type": "markdown",
   "metadata": {},
   "source": [
    "### Question 5"
   ]
  },
  {
   "cell_type": "code",
   "execution_count": 43,
   "metadata": {},
   "outputs": [],
   "source": [
    "experiments = []\n",
    "\n",
    "N = 100\n",
    "\n",
    "#  Repeat the experiment 1000 times and take the average\n",
    "for _ in range(1000):\n",
    "    f, dataset = create_experiment(N)\n",
    "    \n",
    "    # Use Linear Regression to find g\n",
    "    w = pseudo_inverse(dataset)\n",
    "    \n",
    "    # evaluate Ein, the fraction of in-sample points which got classified incorrectly\n",
    "    misclassified_points = list(filter(lambda data: is_misclassified_point(w, data), dataset))\n",
    "    Ein = len(misclassified_points)/N\n",
    "    \n",
    "    experiments.append([w, Ein, f, dataset])"
   ]
  },
  {
   "cell_type": "code",
   "execution_count": 44,
   "metadata": {},
   "outputs": [
    {
     "name": "stdout",
     "output_type": "stream",
     "text": [
      "Average Ein is 0.03314, there closed to 0.01: Answer C\n"
     ]
    }
   ],
   "source": [
    "avg_Ein = np.average(list(map(lambda x: x[1], experiments)))\n",
    "print(f'Average Ein is {avg_Ein}, there closed to 0.01: Answer C')"
   ]
  },
  {
   "cell_type": "markdown",
   "metadata": {},
   "source": [
    "### Question 6"
   ]
  },
  {
   "cell_type": "code",
   "execution_count": 45,
   "metadata": {},
   "outputs": [],
   "source": [
    "Eouts = []\n",
    "\n",
    "#  Repeat the experiment 1000 times and take the average\n",
    "for i in range(1000):\n",
    "    # Take the g from Problem 5\n",
    "    experiment = experiments[i]\n",
    "    w = experiment[0]\n",
    "    \n",
    "    f = experiment[2]\n",
    "    \n",
    "    # generate 1000 fresh points and use them to estimate the out-of-sample error Eout of g that you got in Problem 5\n",
    "    SEPARATED_DATASET_SIZE = 1000\n",
    "    separated_dataset = create_dataset(f, SEPARATED_DATASET_SIZE)\n",
    "    \n",
    "    misclassified_points = list(filter(lambda x: is_misclassified_point(w, x), separated_dataset))\n",
    "\n",
    "    error_rate = len(misclassified_points)/SEPARATED_DATASET_SIZE\n",
    "    \n",
    "    Eouts.append(error_rate)"
   ]
  },
  {
   "cell_type": "code",
   "execution_count": 47,
   "metadata": {},
   "outputs": [
    {
     "name": "stdout",
     "output_type": "stream",
     "text": [
      "Average Eout is 0.04286800000000001, there closest to 0.01: Answer C\n"
     ]
    }
   ],
   "source": [
    "avg_Eout = np.average(Eouts)\n",
    "print(f'Average Eout is {avg_Eout}, there closest to 0.01: Answer C')"
   ]
  }
 ],
 "metadata": {
  "kernelspec": {
   "display_name": "Python 3",
   "language": "python",
   "name": "python3"
  },
  "language_info": {
   "codemirror_mode": {
    "name": "ipython",
    "version": 3
   },
   "file_extension": ".py",
   "mimetype": "text/x-python",
   "name": "python",
   "nbconvert_exporter": "python",
   "pygments_lexer": "ipython3",
   "version": "3.7.6"
  }
 },
 "nbformat": 4,
 "nbformat_minor": 4
}
