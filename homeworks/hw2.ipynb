{
 "cells": [
  {
   "cell_type": "markdown",
   "metadata": {},
   "source": [
    "# 1 Hoeffding Inequality\n",
    "\n",
    "Run a computer simulation for flipping 1,000 virtual fair coins. Flip each coin independently 10 times.\n",
    "\n",
    "Note: this is a first naive implementation, below is a much faster one using binomial distribution..."
   ]
  },
  {
   "cell_type": "code",
   "execution_count": 13,
   "metadata": {},
   "outputs": [],
   "source": [
    "import random\n",
    "import numpy as np"
   ]
  },
  {
   "cell_type": "code",
   "execution_count": 17,
   "metadata": {},
   "outputs": [
    {
     "data": {
      "text/plain": [
       "2"
      ]
     },
     "execution_count": 17,
     "metadata": {},
     "output_type": "execute_result"
    }
   ],
   "source": [
    "a = np.array([1, 2, 3, 1, 2, 3])\n",
    "np.where(a > 2)[0][0]"
   ]
  },
  {
   "cell_type": "code",
   "execution_count": 73,
   "metadata": {},
   "outputs": [],
   "source": [
    "\n",
    "def run_experiment():\n",
    "    coins_flips = []\n",
    "\n",
    "    # 0 is tail\n",
    "    # 1 is head\n",
    "    \n",
    "    # For 1000 coins\n",
    "    for _ in range(1000):\n",
    "        coin_flips = []\n",
    "        \n",
    "        # Flip the coin 10 times\n",
    "        for _ in range(10):\n",
    "            coin_flips.append(random.choice([0,1]))\n",
    "        \n",
    "        coins_flips.append(coin_flips)\n",
    "\n",
    "    # c1 is the first coin flipped\n",
    "    c_1 = coins_flips[0]\n",
    "    ν1 = sum(c_1)/10\n",
    "\n",
    "    # crand is a coin chosen randomly from the 1,000\n",
    "    c_rand = random.choice(coins_flips)\n",
    "    νrand = sum(c_rand)/10\n",
    "\n",
    "    # cmin is the coin which had the minimum frequency of heads\n",
    "    coins_heads_frequency = list(map(lambda x: sum(x), coins_flips))\n",
    "    min_heads_frequency = min(coins_heads_frequency)\n",
    "    a = np.array(coins_heads_frequency)\n",
    "    index = np.where(a == min_heads_frequency)[0][0]\n",
    "    c_min = coins_flips[index]\n",
    "    νmin = sum(c_min)/10\n",
    "    \n",
    "    return (ν1, νrand, νmin)"
   ]
  },
  {
   "cell_type": "code",
   "execution_count": 85,
   "metadata": {},
   "outputs": [
    {
     "name": "stdout",
     "output_type": "stream",
     "text": [
      "0.00503\n"
     ]
    }
   ],
   "source": [
    "experiments = []\n",
    "\n",
    "# Run the experiment 100,000 times in order to get a full distribution of ν1, νrand, and νmin\n",
    "NUMBER_OF_RUNS = 100000\n",
    "\n",
    "for _ in range(NUMBER_OF_RUNS):\n",
    "    experiments.append(run_experiment())"
   ]
  },
  {
   "cell_type": "markdown",
   "metadata": {},
   "source": [
    "## 1.1 The average value of νmin is closest to:"
   ]
  },
  {
   "cell_type": "code",
   "execution_count": 126,
   "metadata": {},
   "outputs": [
    {
     "name": "stdout",
     "output_type": "stream",
     "text": [
      "Average νmin is 0.03812299999997629, therefore closest to answer B (0.01)\n"
     ]
    }
   ],
   "source": [
    "avg_νmin = sum(list(map(lambda x: x[2], experiments)))/NUMBER_OF_RUNS\n",
    "print(f'Average νmin is {avg_νmin}, therefore closest to answer B (0.01)')"
   ]
  },
  {
   "cell_type": "markdown",
   "metadata": {},
   "source": [
    "## 1.1-bis Hoeffding Inequality with binomial distribution"
   ]
  },
  {
   "cell_type": "code",
   "execution_count": 115,
   "metadata": {},
   "outputs": [
    {
     "name": "stdout",
     "output_type": "stream",
     "text": [
      "Average νmin is 0.03792199999999999, therefore closest to answer D (0.5)\n"
     ]
    }
   ],
   "source": [
    "import scipy.special\n",
    "\n",
    "N = 100000\n",
    "v_first = np.zeros(N)\n",
    "v_min = np.zeros(N)\n",
    "v_rand = np.zeros(N)\n",
    "\n",
    "#Loop starts\n",
    "for i in range(N):\n",
    "    n,p = 10, 0.5\n",
    "    flips = np.random.binomial(n, p, 1000)\n",
    "\n",
    "    # Indices\n",
    "    first_coin = 0\n",
    "    min_coin = np.argmin(flips)\n",
    "    rand_coin = np.random.randint(0,1000)\n",
    "\n",
    "    v_first[i] = flips[first_coin]/n\n",
    "    v_min[i] = flips[min_coin]/n\n",
    "    v_rand[i] = flips[rand_coin]/n\n",
    "\n",
    "#Loop ends\n",
    "\n",
    "print(f'Average νmin is {np.average(v_min)}, therefore closest to answer D (0.5)')\n",
    "\n"
   ]
  },
  {
   "cell_type": "code",
   "execution_count": 123,
   "metadata": {},
   "outputs": [
    {
     "name": "stdout",
     "output_type": "stream",
     "text": [
      "[8 8 5 6 5 5 5 3 5 7]\n"
     ]
    }
   ],
   "source": [
    "n,p = 10, 0.5\n",
    "flips = np.random.binomial(n, p, 10)\n",
    "print(flips)"
   ]
  },
  {
   "cell_type": "markdown",
   "metadata": {},
   "source": [
    "### 2. Which coin(s) has a distribution of ν that satisfies the (single-bin) Hoeffding Inequality?\n",
    "\n",
    "> The main point is that once you consider the sample, the probability becomes conditional on how this sample came out, and that could violate the 2e^{-2\\epsilon^2N} bound, whereas the probability before a sample was drawn always obeys the bound."
   ]
  },
  {
   "cell_type": "markdown",
   "metadata": {},
   "source": [
    "# Linear Regression"
   ]
  },
  {
   "cell_type": "code",
   "execution_count": null,
   "metadata": {},
   "outputs": [],
   "source": []
  }
 ],
 "metadata": {
  "kernelspec": {
   "display_name": "Python 3",
   "language": "python",
   "name": "python3"
  },
  "language_info": {
   "codemirror_mode": {
    "name": "ipython",
    "version": 3
   },
   "file_extension": ".py",
   "mimetype": "text/x-python",
   "name": "python",
   "nbconvert_exporter": "python",
   "pygments_lexer": "ipython3",
   "version": "3.7.6"
  }
 },
 "nbformat": 4,
 "nbformat_minor": 4
}
